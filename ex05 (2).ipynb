{
  "nbformat": 4,
  "nbformat_minor": 0,
  "metadata": {
    "colab": {
      "provenance": [],
      "collapsed_sections": []
    },
    "kernelspec": {
      "name": "python3",
      "display_name": "Python 3"
    },
    "language_info": {
      "name": "python"
    }
  },
  "cells": [
    {
      "cell_type": "code",
      "execution_count": 1,
      "metadata": {
        "id": "o4kNI9eTvP9p"
      },
      "outputs": [],
      "source": [
        "import numpy as np\n",
        "import matplotlib.pyplot as plt\n",
        "import pandas as pd\n",
        "from sklearn.preprocessing import MinMaxScaler\n",
        "from keras import layers\n",
        "from keras.models import Sequential"
      ]
    },
    {
      "cell_type": "code",
      "source": [
        "dataset_train = pd.read_csv('trainset.csv')\n"
      ],
      "metadata": {
        "id": "eMkre9XB-Ew-"
      },
      "execution_count": 2,
      "outputs": []
    },
    {
      "cell_type": "code",
      "source": [
        "dataset_train.columns"
      ],
      "metadata": {
        "id": "nwGcOfJV-IGy",
        "colab": {
          "base_uri": "https://localhost:8080/"
        },
        "outputId": "55456e6e-242d-44f0-c08b-a2ca0925a5c4"
      },
      "execution_count": 3,
      "outputs": [
        {
          "output_type": "execute_result",
          "data": {
            "text/plain": [
              "Index(['Date', 'Open', 'High', 'Low', 'Close', 'Adj Close', 'Volume'], dtype='object')"
            ]
          },
          "metadata": {},
          "execution_count": 3
        }
      ]
    },
    {
      "cell_type": "code",
      "source": [
        "dataset_train.head()"
      ],
      "metadata": {
        "id": "IOFYuzRs-IJJ",
        "colab": {
          "base_uri": "https://localhost:8080/",
          "height": 206
        },
        "outputId": "ad0ef98b-7d0b-486e-cb89-a3aa711b3f6e"
      },
      "execution_count": 4,
      "outputs": [
        {
          "output_type": "execute_result",
          "data": {
            "text/plain": [
              "         Date        Open        High         Low       Close   Adj Close  \\\n",
              "0  2013-01-02  357.385559  361.151062  355.959839  359.288177  359.288177   \n",
              "1  2013-01-03  360.122742  363.600128  358.031342  359.496826  359.496826   \n",
              "2  2013-01-04  362.313507  368.339294  361.488861  366.600616  366.600616   \n",
              "3  2013-01-07  365.348755  367.301056  362.929504  365.001007  365.001007   \n",
              "4  2013-01-08  365.393463  365.771027  359.874359  364.280701  364.280701   \n",
              "\n",
              "    Volume  \n",
              "0  5115500  \n",
              "1  4666500  \n",
              "2  5562800  \n",
              "3  3332900  \n",
              "4  3373900  "
            ],
            "text/html": [
              "\n",
              "  <div id=\"df-fb0ddcd4-f6f5-4d4b-afc2-444a394b829a\">\n",
              "    <div class=\"colab-df-container\">\n",
              "      <div>\n",
              "<style scoped>\n",
              "    .dataframe tbody tr th:only-of-type {\n",
              "        vertical-align: middle;\n",
              "    }\n",
              "\n",
              "    .dataframe tbody tr th {\n",
              "        vertical-align: top;\n",
              "    }\n",
              "\n",
              "    .dataframe thead th {\n",
              "        text-align: right;\n",
              "    }\n",
              "</style>\n",
              "<table border=\"1\" class=\"dataframe\">\n",
              "  <thead>\n",
              "    <tr style=\"text-align: right;\">\n",
              "      <th></th>\n",
              "      <th>Date</th>\n",
              "      <th>Open</th>\n",
              "      <th>High</th>\n",
              "      <th>Low</th>\n",
              "      <th>Close</th>\n",
              "      <th>Adj Close</th>\n",
              "      <th>Volume</th>\n",
              "    </tr>\n",
              "  </thead>\n",
              "  <tbody>\n",
              "    <tr>\n",
              "      <th>0</th>\n",
              "      <td>2013-01-02</td>\n",
              "      <td>357.385559</td>\n",
              "      <td>361.151062</td>\n",
              "      <td>355.959839</td>\n",
              "      <td>359.288177</td>\n",
              "      <td>359.288177</td>\n",
              "      <td>5115500</td>\n",
              "    </tr>\n",
              "    <tr>\n",
              "      <th>1</th>\n",
              "      <td>2013-01-03</td>\n",
              "      <td>360.122742</td>\n",
              "      <td>363.600128</td>\n",
              "      <td>358.031342</td>\n",
              "      <td>359.496826</td>\n",
              "      <td>359.496826</td>\n",
              "      <td>4666500</td>\n",
              "    </tr>\n",
              "    <tr>\n",
              "      <th>2</th>\n",
              "      <td>2013-01-04</td>\n",
              "      <td>362.313507</td>\n",
              "      <td>368.339294</td>\n",
              "      <td>361.488861</td>\n",
              "      <td>366.600616</td>\n",
              "      <td>366.600616</td>\n",
              "      <td>5562800</td>\n",
              "    </tr>\n",
              "    <tr>\n",
              "      <th>3</th>\n",
              "      <td>2013-01-07</td>\n",
              "      <td>365.348755</td>\n",
              "      <td>367.301056</td>\n",
              "      <td>362.929504</td>\n",
              "      <td>365.001007</td>\n",
              "      <td>365.001007</td>\n",
              "      <td>3332900</td>\n",
              "    </tr>\n",
              "    <tr>\n",
              "      <th>4</th>\n",
              "      <td>2013-01-08</td>\n",
              "      <td>365.393463</td>\n",
              "      <td>365.771027</td>\n",
              "      <td>359.874359</td>\n",
              "      <td>364.280701</td>\n",
              "      <td>364.280701</td>\n",
              "      <td>3373900</td>\n",
              "    </tr>\n",
              "  </tbody>\n",
              "</table>\n",
              "</div>\n",
              "      <button class=\"colab-df-convert\" onclick=\"convertToInteractive('df-fb0ddcd4-f6f5-4d4b-afc2-444a394b829a')\"\n",
              "              title=\"Convert this dataframe to an interactive table.\"\n",
              "              style=\"display:none;\">\n",
              "        \n",
              "  <svg xmlns=\"http://www.w3.org/2000/svg\" height=\"24px\"viewBox=\"0 0 24 24\"\n",
              "       width=\"24px\">\n",
              "    <path d=\"M0 0h24v24H0V0z\" fill=\"none\"/>\n",
              "    <path d=\"M18.56 5.44l.94 2.06.94-2.06 2.06-.94-2.06-.94-.94-2.06-.94 2.06-2.06.94zm-11 1L8.5 8.5l.94-2.06 2.06-.94-2.06-.94L8.5 2.5l-.94 2.06-2.06.94zm10 10l.94 2.06.94-2.06 2.06-.94-2.06-.94-.94-2.06-.94 2.06-2.06.94z\"/><path d=\"M17.41 7.96l-1.37-1.37c-.4-.4-.92-.59-1.43-.59-.52 0-1.04.2-1.43.59L10.3 9.45l-7.72 7.72c-.78.78-.78 2.05 0 2.83L4 21.41c.39.39.9.59 1.41.59.51 0 1.02-.2 1.41-.59l7.78-7.78 2.81-2.81c.8-.78.8-2.07 0-2.86zM5.41 20L4 18.59l7.72-7.72 1.47 1.35L5.41 20z\"/>\n",
              "  </svg>\n",
              "      </button>\n",
              "      \n",
              "  <style>\n",
              "    .colab-df-container {\n",
              "      display:flex;\n",
              "      flex-wrap:wrap;\n",
              "      gap: 12px;\n",
              "    }\n",
              "\n",
              "    .colab-df-convert {\n",
              "      background-color: #E8F0FE;\n",
              "      border: none;\n",
              "      border-radius: 50%;\n",
              "      cursor: pointer;\n",
              "      display: none;\n",
              "      fill: #1967D2;\n",
              "      height: 32px;\n",
              "      padding: 0 0 0 0;\n",
              "      width: 32px;\n",
              "    }\n",
              "\n",
              "    .colab-df-convert:hover {\n",
              "      background-color: #E2EBFA;\n",
              "      box-shadow: 0px 1px 2px rgba(60, 64, 67, 0.3), 0px 1px 3px 1px rgba(60, 64, 67, 0.15);\n",
              "      fill: #174EA6;\n",
              "    }\n",
              "\n",
              "    [theme=dark] .colab-df-convert {\n",
              "      background-color: #3B4455;\n",
              "      fill: #D2E3FC;\n",
              "    }\n",
              "\n",
              "    [theme=dark] .colab-df-convert:hover {\n",
              "      background-color: #434B5C;\n",
              "      box-shadow: 0px 1px 3px 1px rgba(0, 0, 0, 0.15);\n",
              "      filter: drop-shadow(0px 1px 2px rgba(0, 0, 0, 0.3));\n",
              "      fill: #FFFFFF;\n",
              "    }\n",
              "  </style>\n",
              "\n",
              "      <script>\n",
              "        const buttonEl =\n",
              "          document.querySelector('#df-fb0ddcd4-f6f5-4d4b-afc2-444a394b829a button.colab-df-convert');\n",
              "        buttonEl.style.display =\n",
              "          google.colab.kernel.accessAllowed ? 'block' : 'none';\n",
              "\n",
              "        async function convertToInteractive(key) {\n",
              "          const element = document.querySelector('#df-fb0ddcd4-f6f5-4d4b-afc2-444a394b829a');\n",
              "          const dataTable =\n",
              "            await google.colab.kernel.invokeFunction('convertToInteractive',\n",
              "                                                     [key], {});\n",
              "          if (!dataTable) return;\n",
              "\n",
              "          const docLinkHtml = 'Like what you see? Visit the ' +\n",
              "            '<a target=\"_blank\" href=https://colab.research.google.com/notebooks/data_table.ipynb>data table notebook</a>'\n",
              "            + ' to learn more about interactive tables.';\n",
              "          element.innerHTML = '';\n",
              "          dataTable['output_type'] = 'display_data';\n",
              "          await google.colab.output.renderOutput(dataTable, element);\n",
              "          const docLink = document.createElement('div');\n",
              "          docLink.innerHTML = docLinkHtml;\n",
              "          element.appendChild(docLink);\n",
              "        }\n",
              "      </script>\n",
              "    </div>\n",
              "  </div>\n",
              "  "
            ]
          },
          "metadata": {},
          "execution_count": 4
        }
      ]
    },
    {
      "cell_type": "code",
      "source": [
        "train_set = dataset_train.iloc[:,1:2].values"
      ],
      "metadata": {
        "id": "vRIEFhqt-ILH"
      },
      "execution_count": 5,
      "outputs": []
    },
    {
      "cell_type": "code",
      "source": [
        "type(train_set)"
      ],
      "metadata": {
        "id": "VY9zrd4a-INM",
        "colab": {
          "base_uri": "https://localhost:8080/"
        },
        "outputId": "fe75b9b1-412f-448a-df9e-949f7f04ac86"
      },
      "execution_count": 6,
      "outputs": [
        {
          "output_type": "execute_result",
          "data": {
            "text/plain": [
              "numpy.ndarray"
            ]
          },
          "metadata": {},
          "execution_count": 6
        }
      ]
    },
    {
      "cell_type": "code",
      "source": [
        "train_set.shape"
      ],
      "metadata": {
        "id": "TjpVKKuK-IPT",
        "colab": {
          "base_uri": "https://localhost:8080/"
        },
        "outputId": "8749db17-5527-44f6-c3b7-dc74a0880485"
      },
      "execution_count": 7,
      "outputs": [
        {
          "output_type": "execute_result",
          "data": {
            "text/plain": [
              "(1259, 1)"
            ]
          },
          "metadata": {},
          "execution_count": 7
        }
      ]
    },
    {
      "cell_type": "code",
      "source": [
        "sc = MinMaxScaler(feature_range=(0,1))\n",
        "training_set_scaled = sc.fit_transform(train_set)"
      ],
      "metadata": {
        "id": "k_wRhFAN-ITj"
      },
      "execution_count": 8,
      "outputs": []
    },
    {
      "cell_type": "code",
      "source": [
        "training_set_scaled.shape"
      ],
      "metadata": {
        "id": "rQU9xmCa-IWz",
        "colab": {
          "base_uri": "https://localhost:8080/"
        },
        "outputId": "f173ddaf-0f21-48e2-8db1-f1b1b5ff440f"
      },
      "execution_count": 9,
      "outputs": [
        {
          "output_type": "execute_result",
          "data": {
            "text/plain": [
              "(1259, 1)"
            ]
          },
          "metadata": {},
          "execution_count": 9
        }
      ]
    },
    {
      "cell_type": "code",
      "source": [
        "X_train_array = []\n",
        "y_train_array = []\n",
        "for i in range(60, 1259):\n",
        "  X_train_array.append(training_set_scaled[i-60:i,0])\n",
        "  y_train_array.append(training_set_scaled[i,0])\n",
        "X_train, y_train = np.array(X_train_array), np.array(y_train_array)\n",
        "X_train1 = X_train.reshape((X_train.shape[0], X_train.shape[1],1))"
      ],
      "metadata": {
        "id": "RSPTIu39-Wsr"
      },
      "execution_count": 10,
      "outputs": []
    },
    {
      "cell_type": "code",
      "source": [
        "X_train.shape"
      ],
      "metadata": {
        "id": "yflZBMKu-WvA",
        "colab": {
          "base_uri": "https://localhost:8080/"
        },
        "outputId": "848b2ca8-bc18-4f66-a9d8-3ab9f0353e31"
      },
      "execution_count": 11,
      "outputs": [
        {
          "output_type": "execute_result",
          "data": {
            "text/plain": [
              "(1199, 60)"
            ]
          },
          "metadata": {},
          "execution_count": 11
        }
      ]
    },
    {
      "cell_type": "code",
      "source": [
        "model = Sequential()\n",
        "model.add(layers.SimpleRNN(70,input_shape=(60,1)))\n",
        "model.add(layers.Dense(1))\n",
        "\n",
        "model.compile(optimizer='adam', loss='mae')"
      ],
      "metadata": {
        "id": "yf89gPnB-Wwu"
      },
      "execution_count": 12,
      "outputs": []
    },
    {
      "cell_type": "code",
      "source": [
        "model.summary()"
      ],
      "metadata": {
        "id": "YiBF1rjv-WzV",
        "colab": {
          "base_uri": "https://localhost:8080/"
        },
        "outputId": "901476ec-a0e6-4397-ccc0-2dd43536676e"
      },
      "execution_count": 13,
      "outputs": [
        {
          "output_type": "stream",
          "name": "stdout",
          "text": [
            "Model: \"sequential\"\n",
            "_________________________________________________________________\n",
            " Layer (type)                Output Shape              Param #   \n",
            "=================================================================\n",
            " simple_rnn (SimpleRNN)      (None, 70)                5040      \n",
            "                                                                 \n",
            " dense (Dense)               (None, 1)                 71        \n",
            "                                                                 \n",
            "=================================================================\n",
            "Total params: 5,111\n",
            "Trainable params: 5,111\n",
            "Non-trainable params: 0\n",
            "_________________________________________________________________\n"
          ]
        }
      ]
    },
    {
      "cell_type": "code",
      "source": [
        "model.fit(X_train1,y_train,epochs=100, batch_size=32)"
      ],
      "metadata": {
        "id": "t6yW1iw1-W1s",
        "colab": {
          "base_uri": "https://localhost:8080/"
        },
        "outputId": "ed7d8984-c56c-4114-83f0-6bec04c77095"
      },
      "execution_count": 14,
      "outputs": [
        {
          "output_type": "stream",
          "name": "stdout",
          "text": [
            "Epoch 1/100\n",
            "38/38 [==============================] - 2s 11ms/step - loss: 0.0357\n",
            "Epoch 2/100\n",
            "38/38 [==============================] - 0s 10ms/step - loss: 0.0160\n",
            "Epoch 3/100\n",
            "38/38 [==============================] - 0s 10ms/step - loss: 0.0137\n",
            "Epoch 4/100\n",
            "38/38 [==============================] - 0s 10ms/step - loss: 0.0135\n",
            "Epoch 5/100\n",
            "38/38 [==============================] - 0s 10ms/step - loss: 0.0131\n",
            "Epoch 6/100\n",
            "38/38 [==============================] - 0s 10ms/step - loss: 0.0118\n",
            "Epoch 7/100\n",
            "38/38 [==============================] - 0s 11ms/step - loss: 0.0136\n",
            "Epoch 8/100\n",
            "38/38 [==============================] - 0s 9ms/step - loss: 0.0130\n",
            "Epoch 9/100\n",
            "38/38 [==============================] - 0s 10ms/step - loss: 0.0111\n",
            "Epoch 10/100\n",
            "38/38 [==============================] - 0s 10ms/step - loss: 0.0103\n",
            "Epoch 11/100\n",
            "38/38 [==============================] - 0s 9ms/step - loss: 0.0133\n",
            "Epoch 12/100\n",
            "38/38 [==============================] - 0s 10ms/step - loss: 0.0109\n",
            "Epoch 13/100\n",
            "38/38 [==============================] - 0s 9ms/step - loss: 0.0112\n",
            "Epoch 14/100\n",
            "38/38 [==============================] - 0s 10ms/step - loss: 0.0107\n",
            "Epoch 15/100\n",
            "38/38 [==============================] - 0s 10ms/step - loss: 0.0121\n",
            "Epoch 16/100\n",
            "38/38 [==============================] - 0s 9ms/step - loss: 0.0106\n",
            "Epoch 17/100\n",
            "38/38 [==============================] - 0s 10ms/step - loss: 0.0100\n",
            "Epoch 18/100\n",
            "38/38 [==============================] - 0s 11ms/step - loss: 0.0096\n",
            "Epoch 19/100\n",
            "38/38 [==============================] - 0s 11ms/step - loss: 0.0102\n",
            "Epoch 20/100\n",
            "38/38 [==============================] - 0s 10ms/step - loss: 0.0096\n",
            "Epoch 21/100\n",
            "38/38 [==============================] - 0s 10ms/step - loss: 0.0106\n",
            "Epoch 22/100\n",
            "38/38 [==============================] - 0s 11ms/step - loss: 0.0094\n",
            "Epoch 23/100\n",
            "38/38 [==============================] - 0s 11ms/step - loss: 0.0093\n",
            "Epoch 24/100\n",
            "38/38 [==============================] - 0s 10ms/step - loss: 0.0097\n",
            "Epoch 25/100\n",
            "38/38 [==============================] - 0s 11ms/step - loss: 0.0105\n",
            "Epoch 26/100\n",
            "38/38 [==============================] - 0s 10ms/step - loss: 0.0105\n",
            "Epoch 27/100\n",
            "38/38 [==============================] - 0s 11ms/step - loss: 0.0097\n",
            "Epoch 28/100\n",
            "38/38 [==============================] - 0s 10ms/step - loss: 0.0094\n",
            "Epoch 29/100\n",
            "38/38 [==============================] - 0s 9ms/step - loss: 0.0094\n",
            "Epoch 30/100\n",
            "38/38 [==============================] - 0s 11ms/step - loss: 0.0098\n",
            "Epoch 31/100\n",
            "38/38 [==============================] - 0s 10ms/step - loss: 0.0103\n",
            "Epoch 32/100\n",
            "38/38 [==============================] - 0s 10ms/step - loss: 0.0100\n",
            "Epoch 33/100\n",
            "38/38 [==============================] - 0s 10ms/step - loss: 0.0095\n",
            "Epoch 34/100\n",
            "38/38 [==============================] - 0s 10ms/step - loss: 0.0097\n",
            "Epoch 35/100\n",
            "38/38 [==============================] - 0s 10ms/step - loss: 0.0101\n",
            "Epoch 36/100\n",
            "38/38 [==============================] - 0s 9ms/step - loss: 0.0095\n",
            "Epoch 37/100\n",
            "38/38 [==============================] - 0s 9ms/step - loss: 0.0093\n",
            "Epoch 38/100\n",
            "38/38 [==============================] - 0s 10ms/step - loss: 0.0099\n",
            "Epoch 39/100\n",
            "38/38 [==============================] - 0s 10ms/step - loss: 0.0089\n",
            "Epoch 40/100\n",
            "38/38 [==============================] - 0s 10ms/step - loss: 0.0090\n",
            "Epoch 41/100\n",
            "38/38 [==============================] - 0s 10ms/step - loss: 0.0093\n",
            "Epoch 42/100\n",
            "38/38 [==============================] - 0s 10ms/step - loss: 0.0092\n",
            "Epoch 43/100\n",
            "38/38 [==============================] - 0s 10ms/step - loss: 0.0093\n",
            "Epoch 44/100\n",
            "38/38 [==============================] - 0s 10ms/step - loss: 0.0099\n",
            "Epoch 45/100\n",
            "38/38 [==============================] - 0s 9ms/step - loss: 0.0097\n",
            "Epoch 46/100\n",
            "38/38 [==============================] - 0s 10ms/step - loss: 0.0087\n",
            "Epoch 47/100\n",
            "38/38 [==============================] - 0s 9ms/step - loss: 0.0089\n",
            "Epoch 48/100\n",
            "38/38 [==============================] - 0s 9ms/step - loss: 0.0089\n",
            "Epoch 49/100\n",
            "38/38 [==============================] - 0s 10ms/step - loss: 0.0099\n",
            "Epoch 50/100\n",
            "38/38 [==============================] - 0s 10ms/step - loss: 0.0093\n",
            "Epoch 51/100\n",
            "38/38 [==============================] - 0s 10ms/step - loss: 0.0092\n",
            "Epoch 52/100\n",
            "38/38 [==============================] - 0s 10ms/step - loss: 0.0100\n",
            "Epoch 53/100\n",
            "38/38 [==============================] - 0s 10ms/step - loss: 0.0092\n",
            "Epoch 54/100\n",
            "38/38 [==============================] - 0s 10ms/step - loss: 0.0097\n",
            "Epoch 55/100\n",
            "38/38 [==============================] - 0s 10ms/step - loss: 0.0092\n",
            "Epoch 56/100\n",
            "38/38 [==============================] - 0s 10ms/step - loss: 0.0096\n",
            "Epoch 57/100\n",
            "38/38 [==============================] - 0s 10ms/step - loss: 0.0086\n",
            "Epoch 58/100\n",
            "38/38 [==============================] - 0s 9ms/step - loss: 0.0087\n",
            "Epoch 59/100\n",
            "38/38 [==============================] - 0s 11ms/step - loss: 0.0090\n",
            "Epoch 60/100\n",
            "38/38 [==============================] - 0s 10ms/step - loss: 0.0090\n",
            "Epoch 61/100\n",
            "38/38 [==============================] - 0s 10ms/step - loss: 0.0094\n",
            "Epoch 62/100\n",
            "38/38 [==============================] - 0s 10ms/step - loss: 0.0091\n",
            "Epoch 63/100\n",
            "38/38 [==============================] - 0s 9ms/step - loss: 0.0090\n",
            "Epoch 64/100\n",
            "38/38 [==============================] - 0s 10ms/step - loss: 0.0089\n",
            "Epoch 65/100\n",
            "38/38 [==============================] - 0s 10ms/step - loss: 0.0087\n",
            "Epoch 66/100\n",
            "38/38 [==============================] - 0s 10ms/step - loss: 0.0085\n",
            "Epoch 67/100\n",
            "38/38 [==============================] - 0s 10ms/step - loss: 0.0085\n",
            "Epoch 68/100\n",
            "38/38 [==============================] - 0s 10ms/step - loss: 0.0091\n",
            "Epoch 69/100\n",
            "38/38 [==============================] - 0s 10ms/step - loss: 0.0089\n",
            "Epoch 70/100\n",
            "38/38 [==============================] - 0s 10ms/step - loss: 0.0091\n",
            "Epoch 71/100\n",
            "38/38 [==============================] - 0s 10ms/step - loss: 0.0091\n",
            "Epoch 72/100\n",
            "38/38 [==============================] - 0s 9ms/step - loss: 0.0092\n",
            "Epoch 73/100\n",
            "38/38 [==============================] - 0s 10ms/step - loss: 0.0090\n",
            "Epoch 74/100\n",
            "38/38 [==============================] - 0s 10ms/step - loss: 0.0107\n",
            "Epoch 75/100\n",
            "38/38 [==============================] - 0s 10ms/step - loss: 0.0090\n",
            "Epoch 76/100\n",
            "38/38 [==============================] - 0s 11ms/step - loss: 0.0086\n",
            "Epoch 77/100\n",
            "38/38 [==============================] - 0s 10ms/step - loss: 0.0094\n",
            "Epoch 78/100\n",
            "38/38 [==============================] - 0s 10ms/step - loss: 0.0085\n",
            "Epoch 79/100\n",
            "38/38 [==============================] - 0s 10ms/step - loss: 0.0086\n",
            "Epoch 80/100\n",
            "38/38 [==============================] - 0s 10ms/step - loss: 0.0088\n",
            "Epoch 81/100\n",
            "38/38 [==============================] - 0s 9ms/step - loss: 0.0093\n",
            "Epoch 82/100\n",
            "38/38 [==============================] - 0s 10ms/step - loss: 0.0091\n",
            "Epoch 83/100\n",
            "38/38 [==============================] - 0s 10ms/step - loss: 0.0092\n",
            "Epoch 84/100\n",
            "38/38 [==============================] - 0s 10ms/step - loss: 0.0094\n",
            "Epoch 85/100\n",
            "38/38 [==============================] - 0s 9ms/step - loss: 0.0092\n",
            "Epoch 86/100\n",
            "38/38 [==============================] - 0s 10ms/step - loss: 0.0097\n",
            "Epoch 87/100\n",
            "38/38 [==============================] - 0s 10ms/step - loss: 0.0090\n",
            "Epoch 88/100\n",
            "38/38 [==============================] - 0s 11ms/step - loss: 0.0087\n",
            "Epoch 89/100\n",
            "38/38 [==============================] - 0s 10ms/step - loss: 0.0097\n",
            "Epoch 90/100\n",
            "38/38 [==============================] - 0s 10ms/step - loss: 0.0092\n",
            "Epoch 91/100\n",
            "38/38 [==============================] - 0s 10ms/step - loss: 0.0098\n",
            "Epoch 92/100\n",
            "38/38 [==============================] - 0s 10ms/step - loss: 0.0092\n",
            "Epoch 93/100\n",
            "38/38 [==============================] - 0s 10ms/step - loss: 0.0091\n",
            "Epoch 94/100\n",
            "38/38 [==============================] - 0s 10ms/step - loss: 0.0105\n",
            "Epoch 95/100\n",
            "38/38 [==============================] - 0s 10ms/step - loss: 0.0088\n",
            "Epoch 96/100\n",
            "38/38 [==============================] - 0s 11ms/step - loss: 0.0097\n",
            "Epoch 97/100\n",
            "38/38 [==============================] - 0s 10ms/step - loss: 0.0092\n",
            "Epoch 98/100\n",
            "38/38 [==============================] - 0s 9ms/step - loss: 0.0090\n",
            "Epoch 99/100\n",
            "38/38 [==============================] - 0s 10ms/step - loss: 0.0086\n",
            "Epoch 100/100\n",
            "38/38 [==============================] - 0s 10ms/step - loss: 0.0090\n"
          ]
        },
        {
          "output_type": "execute_result",
          "data": {
            "text/plain": [
              "<keras.callbacks.History at 0x7f55c55335d0>"
            ]
          },
          "metadata": {},
          "execution_count": 14
        }
      ]
    },
    {
      "cell_type": "code",
      "source": [
        "dataset_test = pd.read_csv('testset (1).csv')"
      ],
      "metadata": {
        "id": "qwsZW86C-W3w"
      },
      "execution_count": 17,
      "outputs": []
    },
    {
      "cell_type": "code",
      "source": [
        "test_set = dataset_test.iloc[:,1:2].values"
      ],
      "metadata": {
        "id": "NM-jgwIr-W5v"
      },
      "execution_count": 19,
      "outputs": []
    },
    {
      "cell_type": "code",
      "source": [
        "test_set.shape"
      ],
      "metadata": {
        "id": "fQiae9fK-W9A",
        "colab": {
          "base_uri": "https://localhost:8080/"
        },
        "outputId": "5bf1f588-4c40-44fe-c964-9a2502cc8af3"
      },
      "execution_count": 20,
      "outputs": [
        {
          "output_type": "execute_result",
          "data": {
            "text/plain": [
              "(125, 1)"
            ]
          },
          "metadata": {},
          "execution_count": 20
        }
      ]
    },
    {
      "cell_type": "code",
      "source": [
        "dataset_total = pd.concat((dataset_train['Open'],dataset_test['Open']),axis=0)"
      ],
      "metadata": {
        "id": "f3GGWkhd-2Jx"
      },
      "execution_count": 21,
      "outputs": []
    },
    {
      "cell_type": "code",
      "source": [
        "inputs = dataset_total.values\n",
        "inputs = inputs.reshape(-1,1)\n",
        "inputs_scaled=sc.transform(inputs)\n",
        "X_test = []\n",
        "y_test=[]\n",
        "for i in range(60,1384):\n",
        "  X_test.append(inputs_scaled[i-60:i,0])\n",
        "  y_test.append(inputs_scaled[i,0])\n",
        "X_test = np.array(X_test)\n",
        "X_test = np.reshape(X_test,(X_test.shape[0], X_test.shape[1],1))"
      ],
      "metadata": {
        "id": "Nwdfat1m-2MH"
      },
      "execution_count": 22,
      "outputs": []
    },
    {
      "cell_type": "code",
      "source": [
        "X_test.shape"
      ],
      "metadata": {
        "id": "QWjz70iV-2PA",
        "colab": {
          "base_uri": "https://localhost:8080/"
        },
        "outputId": "549138d0-5ec5-473d-aba1-f3a8599b8d51"
      },
      "execution_count": 23,
      "outputs": [
        {
          "output_type": "execute_result",
          "data": {
            "text/plain": [
              "(1324, 60, 1)"
            ]
          },
          "metadata": {},
          "execution_count": 23
        }
      ]
    },
    {
      "cell_type": "code",
      "source": [
        "predicted_stock_price_scaled = model.predict(X_test)\n",
        "predicted_stock_price = sc.inverse_transform(predicted_stock_price_scaled)"
      ],
      "metadata": {
        "id": "-jMeUNZU-8_C",
        "colab": {
          "base_uri": "https://localhost:8080/"
        },
        "outputId": "d1fe8e88-43a6-42c4-fba1-efbdbce079d1"
      },
      "execution_count": 24,
      "outputs": [
        {
          "output_type": "stream",
          "name": "stdout",
          "text": [
            "42/42 [==============================] - 0s 4ms/step\n"
          ]
        }
      ]
    },
    {
      "cell_type": "code",
      "source": [
        "plt.plot(np.arange(0,1384),inputs, color='red', label = 'Test(Real) Google stock price')\n",
        "plt.plot(np.arange(60,1384),predicted_stock_price, color='blue', label = 'Predicted Google stock price')\n",
        "plt.title('Google Stock Price Prediction')\n",
        "plt.xlabel('Time')\n",
        "plt.ylabel('Google Stock Price')\n",
        "plt.legend()\n",
        "plt.show()"
      ],
      "metadata": {
        "id": "HiuTInHM-9CZ",
        "colab": {
          "base_uri": "https://localhost:8080/",
          "height": 295
        },
        "outputId": "fd2b6d7e-45b8-4bbe-c3ec-11989e35ae07"
      },
      "execution_count": 25,
      "outputs": [
        {
          "output_type": "display_data",
          "data": {
            "text/plain": [
              "<Figure size 432x288 with 1 Axes>"
            ],
            "image/png": "[encoded data removed]"
          },
          "metadata": {
            "needs_background": "light"
          }
        }
      ]
    },
    {
      "cell_type": "code",
      "source": [
        "from sklearn.metrics import mean_squared_error as mse\n",
        "mse(y_test,predicted_stock_price)"
      ],
      "metadata": {
        "id": "TMMppDfWADMA",
        "colab": {
          "base_uri": "https://localhost:8080/"
        },
        "outputId": "9ba24f56-38f7-4aaa-ab51-930db38de8b5"
      },
      "execution_count": 26,
      "outputs": [
        {
          "output_type": "execute_result",
          "data": {
            "text/plain": [
              "544294.9555027435"
            ]
          },
          "metadata": {},
          "execution_count": 26
        }
      ]
    },
    {
      "cell_type": "code",
      "source": [],
      "metadata": {
        "id": "87akE4IjCQLH"
      },
      "execution_count": null,
      "outputs": []
    }
  ]
}